{
 "cells": [
  {
   "cell_type": "code",
   "execution_count": 39,
   "metadata": {},
   "outputs": [],
   "source": [
    "import advent\n",
    "import numpy as np\n",
    "import matplotlib.pyplot as plt"
   ]
  },
  {
   "cell_type": "code",
   "execution_count": 41,
   "metadata": {},
   "outputs": [],
   "source": [
    "import asyncio\n",
    "from advent.intcode import run_io, compute\n",
    "\n",
    "\n",
    "async def __main__() -> None:\n",
    "    with open(\"input/10.txt\") as file_input:\n",
    "        symbols = file_input.read().strip(\"\\n\").split(\",\")\n",
    "        code = [int(symbol) for symbol in symbols]\n",
    "\n",
    "        iq = asyncio.Queue()\n",
    "        oq = asyncio.Queue()\n",
    "        task = asyncio.create_task(compute(code, iq, oq))\n",
    "\n",
    "        colors = {}\n",
    "        pos = (0, 0)\n",
    "        rot = 'up'\n",
    "        colors[pos] = 1\n",
    "\n",
    "        while not task.done():\n",
    "            await iq.put(colors.get(pos, 0))\n",
    "            color = await oq.get()\n",
    "            turn = await oq.get()\n",
    "\n",
    "            colors[pos] = color\n",
    "           # print(turn)\n",
    "\n",
    "            if rot == 'up':\n",
    "                if turn == 0:\n",
    "                    rot = 'left'\n",
    "                    pos = (pos[0] - 1, pos[1])\n",
    "                else:\n",
    "                    rot = 'right'\n",
    "                    pos = (pos[0] + 1, pos[1])\n",
    "            elif rot == 'left':\n",
    "                if turn == 0:\n",
    "                    rot = 'down'\n",
    "                    pos = (pos[0], pos[1] - 1)\n",
    "                else:\n",
    "                    rot = 'up'\n",
    "                    pos = (pos[0], pos[1] + 1)\n",
    "            elif rot == 'down':\n",
    "                if turn == 0:\n",
    "                    rot = 'right'\n",
    "                    pos = (pos[0] + 1, pos[1])\n",
    "                else:\n",
    "                    rot = 'left'\n",
    "                    pos = (pos[0] - 1, pos[1])\n",
    "            elif rot == 'right':\n",
    "                if turn == 0:\n",
    "                    rot = 'up'\n",
    "                    pos = (pos[0], pos[1] + 1)\n",
    "                else:\n",
    "                    rot = 'down'\n",
    "                    pos = (pos[0], pos[1] - 1)\n",
    " \n",
    "\n",
    "\n",
    "        return colors"
   ]
  },
  {
   "cell_type": "code",
   "execution_count": 42,
   "metadata": {},
   "outputs": [],
   "source": [
    "task = asyncio.create_task(__main__())\n",
    "colors = await task"
   ]
  },
  {
   "cell_type": "code",
   "execution_count": 50,
   "metadata": {},
   "outputs": [],
   "source": [
    "white = [c[0] for c in colors.items() if c[1] == 1]"
   ]
  },
  {
   "cell_type": "code",
   "execution_count": 52,
   "metadata": {},
   "outputs": [],
   "source": [
    "x,y = zip(*white)"
   ]
  },
  {
   "cell_type": "code",
   "execution_count": 56,
   "metadata": {},
   "outputs": [
    {
     "data": {
      "text/plain": [
       "(-20, 20)"
      ]
     },
     "execution_count": 56,
     "metadata": {},
     "output_type": "execute_result"
    },
    {
     "data": {
      "image/png": "[encoded data removed]",
      "text/plain": [
       "<Figure size 432x288 with 1 Axes>"
      ]
     },
     "metadata": {
      "needs_background": "light"
     },
     "output_type": "display_data"
    }
   ],
   "source": [
    "plt.scatter(x,y)\n",
    "plt.ylim(-20,20)"
   ]
  }
 ],
 "metadata": {
  "kernelspec": {
   "display_name": "Python 3",
   "language": "python",
   "name": "python3"
  },
  "language_info": {
   "codemirror_mode": {
    "name": "ipython",
    "version": 3
   },
   "file_extension": ".py",
   "mimetype": "text/x-python",
   "name": "python",
   "nbconvert_exporter": "python",
   "pygments_lexer": "ipython3",
   "version": "3.7.5"
  }
 },
 "nbformat": 4,
 "nbformat_minor": 2
}
