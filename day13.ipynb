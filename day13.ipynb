{
 "cells": [
  {
   "cell_type": "code",
   "execution_count": 102,
   "metadata": {},
   "outputs": [],
   "source": [
    "import advent\n",
    "import numpy as np\n",
    "from IPython.display import display_pretty, clear_output"
   ]
  },
  {
   "cell_type": "code",
   "execution_count": 103,
   "metadata": {},
   "outputs": [],
   "source": [
    "def render(screen):\n",
    "    clear_output(wait=True)\n",
    "    for row in screen:\n",
    "        output = \"\"\n",
    "        for elem in row:\n",
    "            if elem == 1:\n",
    "                output += \"#\"\n",
    "            elif elem == 2:\n",
    "                output += \"@\"\n",
    "            elif elem == 3:\n",
    "                output += \"_\"\n",
    "            elif elem == 4:\n",
    "                output += \"*\"\n",
    "            elif elem == 0:\n",
    "                output += \" \"\n",
    "\n",
    "        print(output)"
   ]
  },
  {
   "cell_type": "code",
   "execution_count": 114,
   "metadata": {},
   "outputs": [],
   "source": [
    "import asyncio\n",
    "from advent.intcode import run_io, compute\n",
    "\n",
    "\n",
    "async def __main__() -> None:\n",
    "    with open(\"input/11.txt\") as file_input:\n",
    "        symbols = file_input.read().strip(\"\\n\").split(\",\")\n",
    "        code = [int(symbol) for symbol in symbols]\n",
    "        code[0] = 2\n",
    "\n",
    "        iq = asyncio.Queue()\n",
    "        oq = asyncio.Queue()\n",
    "        task = asyncio.create_task(compute(code, iq, oq))\n",
    "\n",
    "        screen = np.zeros((24,40))\n",
    "        \n",
    "        x = await oq.get()\n",
    "        y = await oq.get()\n",
    "        tile_id = await oq.get()\n",
    "        screen[y][x] = tile_id\n",
    "        \n",
    "        while not oq.empty():\n",
    "            iq.put_nowait(0)\n",
    "            x = await oq.get()\n",
    "            y = await oq.get()\n",
    "            tile_id = await oq.get()\n",
    "            screen[y][x] = tile_id\n",
    "                                    \n",
    "        return screen"
   ]
  },
  {
   "cell_type": "code",
   "execution_count": 115,
   "metadata": {},
   "outputs": [],
   "source": [
    "mytask = asyncio.create_task(__main__())"
   ]
  },
  {
   "cell_type": "code",
   "execution_count": 116,
   "metadata": {},
   "outputs": [],
   "source": [
    "screen = await mytask"
   ]
  },
  {
   "cell_type": "code",
   "execution_count": 117,
   "metadata": {},
   "outputs": [
    {
     "name": "stdout",
     "output_type": "stream",
     "text": [
      "####################################### \n",
      "#                                      #\n",
      "#   @  @@@@ @  @  @@@@     @ @ @@@ @   #\n",
      "# @@@ @@  @ @@@@@@  @@   @@  @@ @@@@ @ #\n",
      "#  @@ @@@@ @@@@ @ @@  @@@ @@@@@@  @@   #\n",
      "# @@@@ @@@@ @@@@ @@   @     @  @@ @  @ #\n",
      "# @@@@@ @ @ @ @@@@ @ @@@ @@@@@@ @@@ @  #\n",
      "#  @ @@@@ @  @ @@     @@@  @ @@ @@     #\n",
      "#  @  @@@@@@@@@@@ @  @@@@@ @@@  @   @  #\n",
      "#  @@ @ @@@     @@@@@@@  @  @ @@@@@ @@ #\n",
      "#  @@@@ @   @@@ @ @      @@ @@  @@@@@@ #\n",
      "#   @ @  @ @ @  @ @@  @       @@ @@@@  #\n",
      "#  @@@ @ @ @@@@@@@@@@ @   @ @ @ @@@@@@ #\n",
      "# @ @ @@  @@@@@@@ @@   @@ @@  @ @@@@   #\n",
      "#  @  @@       @     @ @@@  @ @@ @@@@@ #\n",
      "# @  @  @@@   @@@@@@@ @@@@@@  @@ @  @@ #\n",
      "# @@  @@@@ @@@@    @ @@@ @   @ @    @  #\n",
      "# @@ @@@ @@@@@@@@@@@@@        @ @@@@ @ #\n",
      "#                                      #\n",
      "#                 *                    #\n",
      "#                                      #\n",
      "#                                      #\n",
      "#                   _                  #\n",
      "#                                      #\n"
     ]
    }
   ],
   "source": [
    "render(screen)"
   ]
  },
  {
   "cell_type": "code",
   "execution_count": null,
   "metadata": {},
   "outputs": [],
   "source": []
  }
 ],
 "metadata": {
  "kernelspec": {
   "display_name": "Python 3",
   "language": "python",
   "name": "python3"
  },
  "language_info": {
   "codemirror_mode": {
    "name": "ipython",
    "version": 3
   },
   "file_extension": ".py",
   "mimetype": "text/x-python",
   "name": "python",
   "nbconvert_exporter": "python",
   "pygments_lexer": "ipython3",
   "version": "3.7.5"
  }
 },
 "nbformat": 4,
 "nbformat_minor": 2
}
